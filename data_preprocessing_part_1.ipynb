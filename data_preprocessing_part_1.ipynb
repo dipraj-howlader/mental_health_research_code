{
  "cells": [
    {
      "cell_type": "code",
      "execution_count": 5,
      "metadata": {
        "colab": {
          "base_uri": "https://localhost:8080/",
          "height": 383
        },
        "id": "Rqo8j8-r1Y1t",
        "outputId": "3a8639ae-4501-48b9-f159-a798f0091fb7"
      },
      "outputs": [
        {
          "name": "stdout",
          "output_type": "stream",
          "text": [
            "File 'raw_data.csv' loaded successfully.\n",
            "\n",
            "Columns renamed successfully. Here are the first 5 rows with new column names:\n",
            "      11    12       13      14  21  22  23  24  25  26  ...   39  310  311  \\\n",
            "0  20-30  Male  Student  Single   4   4   3   2   1   3  ...  Yes  Yes  Yes   \n",
            "1  20-30  Male  Student  Single   3   1   2   1   2   1  ...  Yes   No   No   \n",
            "2  20-30  Male  Student  Single   2   2   1   2   2   2  ...  Yes   No   No   \n",
            "3  20-30  Male  Student  Single   4   2   1   3   3   4  ...   No  Yes   No   \n",
            "4  20-30  Male  Student  Single   3   4   2   3   5   5  ...   No  Yes   No   \n",
            "\n",
            "   312   41   42                           43         44 45  46  \n",
            "0  Yes   No  Yes  Facebook, YouTube, LinkedIn  5-7 Hours  2   2  \n",
            "1   No   No   No                     Facebook  5-7 Hours  1   1  \n",
            "2   No   No  Yes  Facebook, YouTube, Snapchat  5-7 Hours  1   1  \n",
            "3   No  Yes  Yes  Facebook, YouTube, LinkedIn  5-7 Hours  4   3  \n",
            "4   No   No  Yes            Facebook, YouTube  7-9 Hours  2   1  \n",
            "\n",
            "[5 rows x 37 columns]\n"
          ]
        }
      ],
      "source": [
        "import pandas as pd\n",
        "\n",
        "# 1. Define the filename and new column names\n",
        "filename = 'raw_data.csv'  # Replace with the actual name of your CSV file\n",
        "new_column_names = [\n",
        "    '11', '12', '13', '14', '21', '22', '23', '24', '25', '26',\n",
        "    '27', '28', '29', '210', '211', '212', '213', '214', '215', '31', '32',\n",
        "    '33', '34', '35', '36', '37', '38', '39', '310', '311', '312', '41',\n",
        "    '42', '43', '44', '45', '46'\n",
        "]\n",
        "\n",
        "# 2. Read the CSV file into a DataFrame\n",
        "try:\n",
        "    df = pd.read_csv(filename)\n",
        "    print(f\"File '{filename}' loaded successfully.\")\n",
        "\n",
        "    # 3. Check and rename columns\n",
        "    if len(new_column_names) == len(df.columns):\n",
        "        df.columns = new_column_names\n",
        "        print(\"\\nColumns renamed successfully. Here are the first 5 rows with new column names:\")\n",
        "        print(df.head())\n",
        "    else:\n",
        "        print(f\"\\nError: The number of new column names ({len(new_column_names)}) does not match the number of existing columns ({len(df.columns)}).\")\n",
        "        print(\"Please check your file and the provided column names.\")\n",
        "\n",
        "except FileNotFoundError:\n",
        "    print(f\"Error: The file '{filename}' was not found. Please ensure it is in the same directory as this script.\")\n",
        "\n",
        "# You can now continue your analysis with the 'df' DataFrame"
      ]
    },
    {
      "cell_type": "code",
      "execution_count": 6,
      "metadata": {
        "colab": {
          "base_uri": "https://localhost:8080/",
          "height": 52
        },
        "id": "yD6c-3ko1tlj",
        "outputId": "58962ad7-eaff-49fa-f91a-af879ea27a85"
      },
      "outputs": [
        {
          "name": "stdout",
          "output_type": "stream",
          "text": [
            "Your modified file has been saved as 'modified_data.csv'.\n"
          ]
        }
      ],
      "source": [
        "import pandas as pd\n",
        "\n",
        "# Assuming 'df' is your DataFrame after processing (e.g., column renaming)\n",
        "\n",
        "# Convert the DataFrame to a CSV file and save it to your PC\n",
        "output_filename = 'modified_data.csv'\n",
        "df.to_csv(output_filename, index=False)\n",
        "\n",
        "print(f\"Your modified file has been saved as '{output_filename}'.\")"
      ]
    }
  ],
  "metadata": {
    "colab": {
      "provenance": []
    },
    "kernelspec": {
      "display_name": "Python 3",
      "name": "python3"
    },
    "language_info": {
      "codemirror_mode": {
        "name": "ipython",
        "version": 3
      },
      "file_extension": ".py",
      "mimetype": "text/x-python",
      "name": "python",
      "nbconvert_exporter": "python",
      "pygments_lexer": "ipython3",
      "version": "3.12.2"
    }
  },
  "nbformat": 4,
  "nbformat_minor": 0
}
